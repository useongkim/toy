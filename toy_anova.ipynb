{
 "cells": [
  {
   "cell_type": "code",
   "execution_count": 3,
   "id": "f4fc31f8-dc51-4ec2-9393-bdae3328e603",
   "metadata": {},
   "outputs": [
    {
     "name": "stdout",
     "output_type": "stream",
     "text": [
      "program  gender\n",
      "1        F         77.06\n",
      "         M         94.76\n",
      "2        F         89.95\n",
      "         M         75.04\n",
      "Name: grade, dtype: float64\n",
      "program\n",
      "1    85.910\n",
      "2    82.495\n",
      "Name: grade, dtype: float64\n",
      "gender\n",
      "F    83.505\n",
      "M    84.900\n",
      "Name: grade, dtype: float64\n",
      "84.2025\n",
      "program  gender\n",
      "1        F        -8.1525\n",
      "         M         8.1525\n",
      "2        F         8.1525\n",
      "         M        -8.1525\n",
      "Name: grade, dtype: float64\n"
     ]
    }
   ],
   "source": [
    "import pandas as pd\n",
    "\n",
    "df = pd.read_csv(\"data.csv\")\n",
    "y_tot = df['grade'].mean()\n",
    "y_pro = df.groupby('program')['grade'].mean()\n",
    "y_gen = df.groupby('gender')['grade'].mean()\n",
    "y_pg = df.groupby(['program', 'gender'])['grade'].mean()\n",
    "\n",
    "y_ab = y_pg - y_pro - y_gen + y_tot\n",
    "print(y_pg)\n",
    "print(y_pro)\n",
    "print(y_gen)\n",
    "print(y_tot)\n",
    "print(y_ab)"
   ]
  },
  {
   "cell_type": "code",
   "execution_count": null,
   "id": "7e60af68-53da-4433-b68e-542109a9d591",
   "metadata": {},
   "outputs": [],
   "source": []
  }
 ],
 "metadata": {
  "kernelspec": {
   "display_name": "Python 3 (ipykernel)",
   "language": "python",
   "name": "python3"
  },
  "language_info": {
   "codemirror_mode": {
    "name": "ipython",
    "version": 3
   },
   "file_extension": ".py",
   "mimetype": "text/x-python",
   "name": "python",
   "nbconvert_exporter": "python",
   "pygments_lexer": "ipython3",
   "version": "3.12.0"
  }
 },
 "nbformat": 4,
 "nbformat_minor": 5
}
